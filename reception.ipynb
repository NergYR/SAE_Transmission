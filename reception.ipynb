{
 "cells": [
  {
   "cell_type": "code",
   "execution_count": 55,
   "metadata": {},
   "outputs": [],
   "source": [
    "import numpy as np\n",
    "import matplotlib.pyplot as plt\n",
    "import sounddevice as sd\n",
    "import time as toom\n",
    "SLEEP = toom.sleep(1)"
   ]
  },
  {
   "cell_type": "markdown",
   "metadata": {},
   "source": [
    "### Reception du bruit"
   ]
  },
  {
   "cell_type": "code",
   "execution_count": 68,
   "metadata": {},
   "outputs": [
    {
     "name": "stdout",
     "output_type": "stream",
     "text": [
      "attente de signal\n",
      "attente de signal\n",
      "attente de signal\n",
      "attente de signal\n",
      "attente de signal\n",
      "attente de signal\n",
      "attente de signal\n",
      "attente de signal\n",
      "attente de signal\n",
      "attente de signal\n",
      "attente de signal\n",
      "attente de signal\n",
      "attente de signal\n",
      "attente de signal\n",
      "attente de signal\n",
      "attente de signal\n",
      "attente de signal\n",
      "signal détecté\n",
      "0 enregistrement..\n",
      "enregistré\n",
      "1 enregistrement..\n",
      "enregistré\n",
      "2 enregistrement..\n",
      "enregistré\n",
      "3 enregistrement..\n",
      "enregistré\n",
      "4 enregistrement..\n",
      "enregistré\n",
      "0 enregistrement..\n",
      "enregistré\n",
      "1 enregistrement..\n",
      "enregistré\n",
      "2 enregistrement..\n",
      "enregistré\n",
      "3 enregistrement..\n",
      "enregistré\n",
      "4 enregistrement..\n",
      "enregistré\n"
     ]
    }
   ],
   "source": [
    "\n",
    "f = 100000\n",
    "fe = 1\n",
    "time = 60\n",
    "threshold = 0.001\n",
    "\n",
    "def seuil(signal, threshold):\n",
    "    return np.max(np.abs(signal)) > threshold\n",
    "\n",
    "records = []\n",
    "\n",
    "def rec(signal):\n",
    "    for j in range(0, 2):\n",
    "        for i in range(0,5):\n",
    "            print(f\"{i} enregistrement..\")\n",
    "            signal = sd.rec(int(5 * f), samplerate=f, channels=1)\n",
    "            sd.wait()\n",
    "            records.append(signal)\n",
    "            print(\"enregistré\")\n",
    "\n",
    "\n",
    "\n",
    "while(1):\n",
    "    signal = sd.rec(int(1 * fe), samplerate=f, channels=1)\n",
    "    sd.wait()\n",
    "    print(\"attente de signal\")\n",
    "    if seuil(signal, threshold):\n",
    "        print(\"signal détecté\")\n",
    "        rec(signal)\n",
    "        break\n",
    "    \n",
    "\n",
    "    \n",
    "\n"
   ]
  },
  {
   "cell_type": "code",
   "execution_count": null,
   "metadata": {},
   "outputs": [],
   "source": [
    "\n",
    "f = 100000\n",
    "fe = 1\n",
    "time = 5\n",
    "threshold = 0.001\n",
    "records = []\n",
    "amplis_max = []\n",
    "freq_array = []\n",
    "\n",
    "def seuil(signal, threshold):\n",
    "    return np.max(np.abs(signal)) > threshold\n",
    "\n",
    "\n",
    "while(1):\n",
    "    signal = sd.rec(int(1 * fe), samplerate=f, channels=1)\n",
    "    sd.wait()\n",
    "    ampli_max = np.max(np.abs(signal))\n",
    "    print(\"attente de signal\")\n",
    "    if (ampli_max > threshold):\n",
    "        print(\"signal détecté\")\n",
    "        break\n",
    "while(ampli_max > threshold):\n",
    "    for j in range(len(records)):\n",
    "        x=0\n",
    "        recording = records[j]\n",
    "        for i in range(len(recording)-1):\n",
    "            if recording[i] > 0:\n",
    "                if recording[i+1] < 0:\n",
    "                    x+=1\n",
    "            elif recording[i] < 0:\n",
    "                if recording[i+1] >0:\n",
    "                    x+=1\n",
    "        x/=2\n",
    "        Te=1/f\n",
    "        fi = x/time\n",
    "        fi = fi*10\n",
    "    print(fi)\n",
    "    \n",
    "    ampli_max = np.max(np.abs(signal))\n",
    "    records.append(signal)\n",
    "    amplis_max.append(ampli_max)\n",
    "    freq_array.append(fi)\n",
    "    toom.sleep(4)\n",
    "    while(1):\n",
    "        signal = sd.rec(int(1 * fe), samplerate=f, channels=1)\n",
    "        sd.wait()\n",
    "        ampli_max = np.max(np.abs(signal))\n",
    "        print(\"attente de signal\")\n",
    "        i+=1\n",
    "        if ampli_max > threshold:\n",
    "            i = 0\n",
    "            print(\"Début\")\n",
    "            break\n",
    "        elif i < 15:\n",
    "            break\n",
    "        \n"
   ]
  },
  {
   "cell_type": "code",
   "execution_count": null,
   "metadata": {},
   "outputs": [],
   "source": [
    "print(records)\n",
    "print(len(records))\n",
    "\n"
   ]
  },
  {
   "cell_type": "code",
   "execution_count": 84,
   "metadata": {},
   "outputs": [
    {
     "ename": "ValueError",
     "evalue": "Input could not be cast to an at-least-1D NumPy array",
     "output_type": "error",
     "traceback": [
      "\u001b[1;31m---------------------------------------------------------------------------\u001b[0m",
      "\u001b[1;31mValueError\u001b[0m                                Traceback (most recent call last)",
      "Cell \u001b[1;32mIn[84], line 2\u001b[0m\n\u001b[0;32m      1\u001b[0m \u001b[38;5;28;01mfor\u001b[39;00m i \u001b[38;5;129;01min\u001b[39;00m \u001b[38;5;28mrange\u001b[39m(\u001b[38;5;28mlen\u001b[39m(records)):\n\u001b[1;32m----> 2\u001b[0m     plt\u001b[38;5;241m.\u001b[39mplot(records[i])\n\u001b[0;32m      3\u001b[0m     plt\u001b[38;5;241m.\u001b[39mshow()\n",
      "File \u001b[1;32m~\\anaconda3\\Lib\\site-packages\\matplotlib\\pyplot.py:2812\u001b[0m, in \u001b[0;36mplot\u001b[1;34m(scalex, scaley, data, *args, **kwargs)\u001b[0m\n\u001b[0;32m   2810\u001b[0m \u001b[38;5;129m@_copy_docstring_and_deprecators\u001b[39m(Axes\u001b[38;5;241m.\u001b[39mplot)\n\u001b[0;32m   2811\u001b[0m \u001b[38;5;28;01mdef\u001b[39;00m \u001b[38;5;21mplot\u001b[39m(\u001b[38;5;241m*\u001b[39margs, scalex\u001b[38;5;241m=\u001b[39m\u001b[38;5;28;01mTrue\u001b[39;00m, scaley\u001b[38;5;241m=\u001b[39m\u001b[38;5;28;01mTrue\u001b[39;00m, data\u001b[38;5;241m=\u001b[39m\u001b[38;5;28;01mNone\u001b[39;00m, \u001b[38;5;241m*\u001b[39m\u001b[38;5;241m*\u001b[39mkwargs):\n\u001b[1;32m-> 2812\u001b[0m     \u001b[38;5;28;01mreturn\u001b[39;00m gca()\u001b[38;5;241m.\u001b[39mplot(\n\u001b[0;32m   2813\u001b[0m         \u001b[38;5;241m*\u001b[39margs, scalex\u001b[38;5;241m=\u001b[39mscalex, scaley\u001b[38;5;241m=\u001b[39mscaley,\n\u001b[0;32m   2814\u001b[0m         \u001b[38;5;241m*\u001b[39m\u001b[38;5;241m*\u001b[39m({\u001b[38;5;124m\"\u001b[39m\u001b[38;5;124mdata\u001b[39m\u001b[38;5;124m\"\u001b[39m: data} \u001b[38;5;28;01mif\u001b[39;00m data \u001b[38;5;129;01mis\u001b[39;00m \u001b[38;5;129;01mnot\u001b[39;00m \u001b[38;5;28;01mNone\u001b[39;00m \u001b[38;5;28;01melse\u001b[39;00m {}), \u001b[38;5;241m*\u001b[39m\u001b[38;5;241m*\u001b[39mkwargs)\n",
      "File \u001b[1;32m~\\anaconda3\\Lib\\site-packages\\matplotlib\\axes\\_axes.py:1688\u001b[0m, in \u001b[0;36mAxes.plot\u001b[1;34m(self, scalex, scaley, data, *args, **kwargs)\u001b[0m\n\u001b[0;32m   1445\u001b[0m \u001b[38;5;250m\u001b[39m\u001b[38;5;124;03m\"\"\"\u001b[39;00m\n\u001b[0;32m   1446\u001b[0m \u001b[38;5;124;03mPlot y versus x as lines and/or markers.\u001b[39;00m\n\u001b[0;32m   1447\u001b[0m \n\u001b[1;32m   (...)\u001b[0m\n\u001b[0;32m   1685\u001b[0m \u001b[38;5;124;03m(``'green'``) or hex strings (``'#008000'``).\u001b[39;00m\n\u001b[0;32m   1686\u001b[0m \u001b[38;5;124;03m\"\"\"\u001b[39;00m\n\u001b[0;32m   1687\u001b[0m kwargs \u001b[38;5;241m=\u001b[39m cbook\u001b[38;5;241m.\u001b[39mnormalize_kwargs(kwargs, mlines\u001b[38;5;241m.\u001b[39mLine2D)\n\u001b[1;32m-> 1688\u001b[0m lines \u001b[38;5;241m=\u001b[39m [\u001b[38;5;241m*\u001b[39m\u001b[38;5;28mself\u001b[39m\u001b[38;5;241m.\u001b[39m_get_lines(\u001b[38;5;241m*\u001b[39margs, data\u001b[38;5;241m=\u001b[39mdata, \u001b[38;5;241m*\u001b[39m\u001b[38;5;241m*\u001b[39mkwargs)]\n\u001b[0;32m   1689\u001b[0m \u001b[38;5;28;01mfor\u001b[39;00m line \u001b[38;5;129;01min\u001b[39;00m lines:\n\u001b[0;32m   1690\u001b[0m     \u001b[38;5;28mself\u001b[39m\u001b[38;5;241m.\u001b[39madd_line(line)\n",
      "File \u001b[1;32m~\\anaconda3\\Lib\\site-packages\\matplotlib\\axes\\_base.py:311\u001b[0m, in \u001b[0;36m_process_plot_var_args.__call__\u001b[1;34m(self, data, *args, **kwargs)\u001b[0m\n\u001b[0;32m    309\u001b[0m     this \u001b[38;5;241m+\u001b[39m\u001b[38;5;241m=\u001b[39m args[\u001b[38;5;241m0\u001b[39m],\n\u001b[0;32m    310\u001b[0m     args \u001b[38;5;241m=\u001b[39m args[\u001b[38;5;241m1\u001b[39m:]\n\u001b[1;32m--> 311\u001b[0m \u001b[38;5;28;01myield from\u001b[39;00m \u001b[38;5;28mself\u001b[39m\u001b[38;5;241m.\u001b[39m_plot_args(\n\u001b[0;32m    312\u001b[0m     this, kwargs, ambiguous_fmt_datakey\u001b[38;5;241m=\u001b[39mambiguous_fmt_datakey)\n",
      "File \u001b[1;32m~\\anaconda3\\Lib\\site-packages\\matplotlib\\axes\\_base.py:496\u001b[0m, in \u001b[0;36m_process_plot_var_args._plot_args\u001b[1;34m(self, tup, kwargs, return_kwargs, ambiguous_fmt_datakey)\u001b[0m\n\u001b[0;32m    494\u001b[0m     y \u001b[38;5;241m=\u001b[39m _check_1d(xy[\u001b[38;5;241m1\u001b[39m])\n\u001b[0;32m    495\u001b[0m \u001b[38;5;28;01melse\u001b[39;00m:\n\u001b[1;32m--> 496\u001b[0m     x, y \u001b[38;5;241m=\u001b[39m index_of(xy[\u001b[38;5;241m-\u001b[39m\u001b[38;5;241m1\u001b[39m])\n\u001b[0;32m    498\u001b[0m \u001b[38;5;28;01mif\u001b[39;00m \u001b[38;5;28mself\u001b[39m\u001b[38;5;241m.\u001b[39maxes\u001b[38;5;241m.\u001b[39mxaxis \u001b[38;5;129;01mis\u001b[39;00m \u001b[38;5;129;01mnot\u001b[39;00m \u001b[38;5;28;01mNone\u001b[39;00m:\n\u001b[0;32m    499\u001b[0m     \u001b[38;5;28mself\u001b[39m\u001b[38;5;241m.\u001b[39maxes\u001b[38;5;241m.\u001b[39mxaxis\u001b[38;5;241m.\u001b[39mupdate_units(x)\n",
      "File \u001b[1;32m~\\anaconda3\\Lib\\site-packages\\matplotlib\\cbook\\__init__.py:1667\u001b[0m, in \u001b[0;36mindex_of\u001b[1;34m(y)\u001b[0m\n\u001b[0;32m   1665\u001b[0m \u001b[38;5;28;01melse\u001b[39;00m:\n\u001b[0;32m   1666\u001b[0m     \u001b[38;5;28;01mreturn\u001b[39;00m np\u001b[38;5;241m.\u001b[39marange(y\u001b[38;5;241m.\u001b[39mshape[\u001b[38;5;241m0\u001b[39m], dtype\u001b[38;5;241m=\u001b[39m\u001b[38;5;28mfloat\u001b[39m), y\n\u001b[1;32m-> 1667\u001b[0m \u001b[38;5;28;01mraise\u001b[39;00m \u001b[38;5;167;01mValueError\u001b[39;00m(\u001b[38;5;124m'\u001b[39m\u001b[38;5;124mInput could not be cast to an at-least-1D NumPy array\u001b[39m\u001b[38;5;124m'\u001b[39m)\n",
      "\u001b[1;31mValueError\u001b[0m: Input could not be cast to an at-least-1D NumPy array"
     ]
    },
    {
     "data": {
      "image/png": "[encoded data removed]",
      "text/plain": [
       "<Figure size 640x480 with 1 Axes>"
      ]
     },
     "metadata": {},
     "output_type": "display_data"
    }
   ],
   "source": [
    "for i in range(len(records)):\n",
    "    plt.plot(records[i])\n",
    "    plt.show()"
   ]
  },
  {
   "cell_type": "markdown",
   "metadata": {},
   "source": [
    "### Visualisation"
   ]
  },
  {
   "cell_type": "code",
   "execution_count": null,
   "metadata": {},
   "outputs": [],
   "source": [
    "fig, ax = plt.subplots(1, 1, figsize=(15, 4))\n",
    "t = np.linspace(0, time, int(f * time), endpoint=False)\n",
    "ax.plot(t,recording)\n",
    "ax.set_title('Recording')\n",
    "ax.set_xlabel(\"Time\")\n",
    "ax.grid(True)\n",
    "ax.set_ylabel(\"Amplitude\")\n",
    "#ax.set_xlim(1,1.01060192473242)\n"
   ]
  },
  {
   "cell_type": "code",
   "execution_count": 73,
   "metadata": {},
   "outputs": [
    {
     "name": "stdout",
     "output_type": "stream",
     "text": [
      "1025.6666666666665\n",
      "L'amplitude max est de : 0.9999847412109375\n",
      "1739.8333333333333\n",
      "L'amplitude max est de : 0.9999847412109375\n",
      "2535.6666666666665\n",
      "L'amplitude max est de : 0.9999847412109375\n",
      "3379.0\n",
      "L'amplitude max est de : 0.9999847412109375\n",
      "8076.416666666666\n",
      "L'amplitude max est de : 0.9999847412109375\n"
     ]
    }
   ],
   "source": [
    "for j in range(len(records)):\n",
    "    x=0\n",
    "    recording = records[j]\n",
    "    for i in range(len(recording)-1):\n",
    "        if recording[i] > 0:\n",
    "            if recording[i+1] < 0:\n",
    "                x+=1\n",
    "        elif recording[i] < 0:\n",
    "            if recording[i+1] >0:\n",
    "                x+=1\n",
    "    x/=2\n",
    "    Te=1/f\n",
    "    fi = x/time\n",
    "    print(fi*10)\n",
    "    amplitude = (max(recording)+abs(min(recording)))/2\n",
    "    #amplitude*=2\n",
    "    print(\"L'amplitude max est de :\",amplitude)\n",
    "\n",
    "\n",
    "\n",
    "\n",
    "\n",
    "\n",
    "\n"
   ]
  },
  {
   "cell_type": "code",
   "execution_count": null,
   "metadata": {},
   "outputs": [],
   "source": [
    "\n",
    "Fselect = [1000,2000,3000,4000,5000,6000,7000,8000,9000,10000]              #Liste des fréquences selectionnées\n",
    "Freçus = [998,1991.5,2984.9,3978.2,4972.4,5963.7,6958.5,7952.2,8945.3,9940.1]\n",
    "Aselect = [0.563,0.609,0.596,0.566,0.591,0.588,0.588,0.464,0.504,0.587]  #Liste des Amplitudes relevées\n",
    "Gain=20*np.log10(Aselect)                                                            #Conversion en dB\n",
    "\n",
    "#Affichage de deux axes sur une ligne d'une taille de 12 pouces sur 6 pouces\n",
    "\n",
    "fig,ax = plt.subplots(1,2, figsize=(15,6)) \n",
    "\n",
    "####Axe 1\n",
    "\n",
    "#Titre\n",
    "\n",
    "ax[0].set_title(\"Gain H en fonction de la fréquence (Graphique linéaire)\",fontsize=15)   \n",
    "ax[0].set_xlabel(\"Fréquence en Hz\",fontsize=15)     \n",
    "ax[0].set_ylabel(\"Gain en dB\",fontsize=15)\n",
    "\n",
    "#Grille, ligne et annotation fléchées\n",
    "\n",
    "ax[0].grid()                                \n",
    "ax[0].hlines(max(Gain)-3,60,20000, color=\"r\")\n",
    "ax[0].annotate('Fréquence de coupure',fontsize=\"13\", xytext=(10000,-25), xy=(16200,max(Gain)-3), arrowprops=dict(facecolor='k'))\n",
    "\n",
    "#Affichage\n",
    "\n",
    "ax[0].plot(Fselect,Gain)                 \n",
    "\n",
    "####Axe 2\n",
    "\n",
    "#Titre\n",
    "\n",
    "ax[1].set_title(\"Gain H en fonction de la fréquence (semi-log)\",fontsize=15)   #Titre de l'axe 2 semi-log\n",
    "ax[1].set_xlabel(\"Fréquence en Hz\",fontsize=15)     #Titre en abscisse\n",
    "ax[1].set_ylabel(\"Gain en dB\",fontsize=15)          #Titre en ordonné\n",
    "\n",
    "#Ligne et annotation fléchées\n",
    "                                       \n",
    "ax[1].hlines(max(Gain)-3,60,20000, color=\"r\")     \n",
    "ax[1].annotate('Fréquence de coupure', fontsize=\"13\", xytext=(100,-25), xy=(120,max(Gain)-3), arrowprops=dict(facecolor='k'))\n",
    "\n",
    "#Affichage en semilog\n",
    "\n",
    "ax[1].semilogx(Fselect,Gain)       \n",
    "ax[1].grid(True,which=\"both\", linestyle='--')"
   ]
  }
 ],
 "metadata": {
  "kernelspec": {
   "display_name": "Python 3 (ipykernel)",
   "language": "python",
   "name": "python3"
  },
  "language_info": {
   "codemirror_mode": {
    "name": "ipython",
    "version": 3
   },
   "file_extension": ".py",
   "mimetype": "text/x-python",
   "name": "python",
   "nbconvert_exporter": "python",
   "pygments_lexer": "ipython3",
   "version": "3.9.12"
  },
  "orig_nbformat": 4,
  "vscode": {
   "interpreter": {
    "hash": "ad2bdc8ecc057115af97d19610ffacc2b4e99fae6737bb82f5d7fb13d2f2c186"
   }
  }
 },
 "nbformat": 4,
 "nbformat_minor": 2
}
