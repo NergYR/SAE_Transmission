{
 "cells": [
  {
<<<<<<< HEAD
=======
   "cell_type": "markdown",
   "metadata": {},
   "source": [
    "### Reception du bruit"
   ]
  },
  {
>>>>>>> 1a41aad4b2c1e061fb16577355dd8363652369ca
   "cell_type": "code",
   "execution_count": null,
   "metadata": {},
   "outputs": [],
<<<<<<< HEAD
   "source": []
=======
   "source": [
    "time = 5\n",
    "f = 44100\n",
    "recording = sd.rec(time * f, samplerate=f, channels=2 )"
   ]
>>>>>>> 1a41aad4b2c1e061fb16577355dd8363652369ca
  }
 ],
 "metadata": {
  "kernelspec": {
<<<<<<< HEAD
   "display_name": "Python 3 (ipykernel)",
   "language": "python",
   "name": "python3"
=======
   "display_name": "Python 3.9.12 ('base')",
   "language": "python",
   "name": "python3"
  },
  "language_info": {
   "name": "python",
   "version": "3.9.12"
  },
  "orig_nbformat": 4,
  "vscode": {
   "interpreter": {
    "hash": "ad2bdc8ecc057115af97d19610ffacc2b4e99fae6737bb82f5d7fb13d2f2c186"
   }
>>>>>>> 1a41aad4b2c1e061fb16577355dd8363652369ca
  }
 },
 "nbformat": 4,
 "nbformat_minor": 2
}
