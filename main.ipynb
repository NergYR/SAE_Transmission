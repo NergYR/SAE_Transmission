{
 "cells": [
  {
   "cell_type": "code",
<<<<<<< HEAD
   "execution_count": 1,
=======
   "execution_count": 5,
>>>>>>> d5b99535cb9bd1c4f02652b3e7378f9d4fcc080a
   "metadata": {},
   "outputs": [],
   "source": [
    "import numpy as np\n",
    "import matplotlib.pyplot as plt\n",
    "import sounddevice as sd\n",
    "import time\n",
    "\n",
    "\n"
   ]
  },
  {
   "cell_type": "markdown",
   "metadata": {},
   "source": [
    "### Choix de la fréquence \n",
    "1kHz\n",
    "### Choix du temps\n",
    "5 secondes"
   ]
  },
  {
   "cell_type": "code",
<<<<<<< HEAD
   "execution_count": 2,
=======
   "execution_count": 6,
>>>>>>> 3141f8ef967c0dcf9edf8b4e76ef2fe6a484355e
   "metadata": {},
   "outputs": [],
   "source": [
    "\n",
    "f = 1000\n",
    "time = 5\n",
    "sample_rate = 44100\n",
    "\n",
    "t = np.linspace(0, time, int(sample_rate * time), endpoint=False)\n",
    "signal = 0.5 * np.sin(2 * np.pi * f * t)\n",
    "sd.play(signal, sample_rate)\n",
    "sd.wait()\n",
    "\n",
    "\n",
    "\n"
   ]
  },
  {
<<<<<<< HEAD
   "cell_type": "markdown",
   "metadata": {},
   "source": [
    "### Visualisation du signal"
   ]
  },
  {
=======
<<<<<<< HEAD
   "cell_type": "markdown",
   "metadata": {},
   "source": [
    "### Reception du bruit"
   ]
  },
  {
=======
>>>>>>> 3141f8ef967c0dcf9edf8b4e76ef2fe6a484355e
>>>>>>> 9a4ff7430adc1ef04c66c1493cd16fbf6df7f785
   "cell_type": "code",
   "execution_count": null,
   "metadata": {},
   "outputs": [],
<<<<<<< HEAD
   "source": [
    "fig, ax1 = plt.subplots(1, 1, figsize=(15, 15))"
   ]
=======
<<<<<<< HEAD
   "source": [
    "recording = sd.rec(time * f, samplerate=f, channels=2)"
   ]
=======
   "source": []
>>>>>>> 3141f8ef967c0dcf9edf8b4e76ef2fe6a484355e
>>>>>>> 9a4ff7430adc1ef04c66c1493cd16fbf6df7f785
  }
 ],
 "metadata": {
  "kernelspec": {
   "display_name": "Python 3.9.12 ('base')",
   "language": "python",
   "name": "python3"
  },
  "language_info": {
   "codemirror_mode": {
    "name": "ipython",
    "version": 3
   },
   "file_extension": ".py",
   "mimetype": "text/x-python",
   "name": "python",
   "nbconvert_exporter": "python",
   "pygments_lexer": "ipython3",
<<<<<<< HEAD
   "version": "3.9.12"
  },
  "vscode": {
   "interpreter": {
    "hash": "ad2bdc8ecc057115af97d19610ffacc2b4e99fae6737bb82f5d7fb13d2f2c186"
   }
=======
   "version": "3.11.5"
>>>>>>> d5b99535cb9bd1c4f02652b3e7378f9d4fcc080a
  }
 },
 "nbformat": 4,
 "nbformat_minor": 2
}
