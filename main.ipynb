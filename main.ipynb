{
 "cells": [
  {
   "cell_type": "code",
<<<<<<< HEAD
   "execution_count": 1,
=======
   "execution_count": 5,
>>>>>>> 97e08bf379e9146ceda6c7b8b994666eaf5f5b58
   "metadata": {},
   "outputs": [],
   "source": [
    "import numpy as np\n",
    "import matplotlib.pyplot as pl\n",
    "import sounddevice as sd\n",
    "import time\n",
    "\n",
    "\n"
   ]
  },
  {
   "cell_type": "markdown",
   "metadata": {},
   "source": [
    "### Choix de la fréquence \n",
    "1kHz\n",
    "### Choix du temps\n",
    "5 secondes"
   ]
  },
  {
   "cell_type": "code",
<<<<<<< HEAD
   "execution_count": 2,
=======
   "execution_count": 6,
>>>>>>> 97e08bf379e9146ceda6c7b8b994666eaf5f5b58
   "metadata": {},
   "outputs": [],
   "source": [
    "\n",
    "f = 1000\n",
    "time = 5\n",
    "\n",
    "angle = np.arange(-5*np.pi, 5*np.pi, 0.5)\n",
    "sinus = np.sin(angle*f)\n",
    "\n",
    "\n",
    "\n"
   ]
  },
  {
   "cell_type": "markdown",
   "metadata": {},
   "source": [
<<<<<<< HEAD
    "### Reception du bruit"
=======
    "### Visualisation du signal"
>>>>>>> 97e08bf379e9146ceda6c7b8b994666eaf5f5b58
   ]
  },
  {
   "cell_type": "code",
   "execution_count": null,
   "metadata": {},
   "outputs": [],
   "source": [
    "recording = sd.rec(time * f, samplerate=f, channels=2 )"
   ]
  }
 ],
 "metadata": {
  "kernelspec": {
   "display_name": "Python 3 (ipykernel)",
   "language": "python",
   "name": "python3"
  },
  "language_info": {
   "name": "python",
<<<<<<< HEAD
   "version": "3.9.12"
  },
  "vscode": {
   "interpreter": {
    "hash": "ad2bdc8ecc057115af97d19610ffacc2b4e99fae6737bb82f5d7fb13d2f2c186"
   }
=======
   "nbconvert_exporter": "python",
   "pygments_lexer": "ipython3",
   "version": "3.11.5"
>>>>>>> 97e08bf379e9146ceda6c7b8b994666eaf5f5b58
  }
 },
 "nbformat": 4,
 "nbformat_minor": 2
}
